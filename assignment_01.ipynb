{
  "nbformat": 4,
  "nbformat_minor": 0,
  "metadata": {
    "colab": {
      "provenance": [],
      "toc_visible": true
    },
    "kernelspec": {
      "name": "python3",
      "display_name": "Python 3"
    },
    "language_info": {
      "name": "python"
    }
  },
  "cells": [
    {
      "cell_type": "markdown",
      "source": [
        "#Python Basic\n",
        "  "
      ],
      "metadata": {
        "id": "NdStsvkifwTZ"
      }
    },
    {
      "cell_type": "markdown",
      "source": [
        " 1. What is Python, and why is it popular?\n",
        "  - Python is a programming language that is easy to understand and write, making it a popular choice among developers and programmers.\n",
        "-  It is compatible with various programming paradigms, such as procedural, object-oriented, and functional programming.\n",
        "-  Python has a large and active community of developers, an extensive standard library, and third-party packages for various domains.\n",
        " 2. What is an interpreter in Python?\n",
        "  - In Python, an interpreter is a program that executes Python code line by line, translating each instruction into machine-readable bytecode and then running it.\n",
        " 3. What are pre-defined keywords in Python?\n",
        "   - Keywords are reserved words in Python that have special meanings and cannot be used as identifiers (variable names, function names, etc.).\n",
        "   - Examples of keywords include if, else, while, for, def, class, import, try, except, return, True, False, None, etc.\n",
        " 4. Can keywords be used as variable names?\n",
        "  - No, keywords cannot be used as variable names in Python. Keywords are reserved words that have specific meanings within the language's syntax. Using them as variable names would cause a syntax error, as the interpreter would misinterpret the code.\n",
        " 5. What is mutability in Python?\n",
        "  - Mutability in Python refers to an object's ability to be modified after its creation.\n",
        " 6. Why are lists mutable, but tuples are immutable?\n",
        "  - Lists are mutable because its elements can be changed after the list is created.\n",
        "   -Tuples are immutable because its elements can not be changed.\n",
        " 7. What is the difference between “==” and “is” operators in Python?\n",
        "  - key difference are:\n",
        "\n",
        "  - \"==\" checks for equality of values\n",
        "and \"is\" checks for equality of identity.\n",
        "- \"is\" is faster than \"==\" because it only compares memory addresses.\n",
        " 8. What are logical operators in Python?\n",
        "  - Logical operators in Python are used to combine or modify boolean expressions. They evaluate conditions and return a boolean value (True or False).\n",
        "  - There are three main logical operators : and, or & not\n",
        " 9. What is type casting in Python?\n",
        "  -  Type casting, also referred to as type conversion, is the process of changing one data type to another in Python.\n",
        "  -  Python provides built-in functions for type casting, such as int(), float(), str(), list(), tuple(), dict(), etc.\n",
        "  -Type casting is often necessary for performing arithmetic operations, data manipulation, and input/output operations in Python programs.\n",
        " 10. What is the difference between implicit and explicit type casting?\n",
        "  -  Implicit type casting, also known as widening type casting, is performed automatically by the compiler when converting between compatible data types. Explicit type casting, or type casting, requires the programmer to explicitly define the conversion using a cast operator.\n",
        " 11. What is the purpose of conditional statements in Python?\n",
        "  -  Conditional statements in Python are used to control the flow of execution based on whether certain conditions are true or false. They allow programs to make decisions and execute different blocks of code depending on the outcome of these conditions.\n",
        " 12. How does the elif statement work?\n",
        "  -  The “elif” keyword in Python, stands for “else if”. It can be used in conditional statements to check for multiple conditions.\n",
        " 13. What is the difference between for and while loops?\n",
        "  -  The primary difference between for and while loops is that for loops are best used when the number of iterations is known in advance, while while loops are more flexible and used when the number of iterations depends on a dynamic condition or is unknown.\n",
        "  -  For loops iterate over a sequence or a predefined range, while while loops continue execution as long as a specified condition remains true.\n",
        " 14. Describe a scenario where a while loop is more suitable than a for loop.\n",
        "  -  A while loop is more suitable than a for loop when the number of iterations is not known in advance, and you want the loop to continue based on a condition that may change in an unpredictable way.\n",
        "   -  Scenario: Ask the user to enter a number greater than 10\n",
        "   \n"
      ],
      "metadata": {
        "id": "fY7Wwyqtf-CH"
      }
    },
    {
      "cell_type": "markdown",
      "source": [
        "\n",
        "number = int(input(\"Enter a number greater than 10: \"))\n",
        "\n",
        "while number <= 10:\n",
        "    print(\"That's too small. Try again.\")\n",
        "    number = int(input(\"Enter a number greater than 10: \"))\n",
        "\n",
        "print(\"Thank you!\")\n"
      ],
      "metadata": {
        "id": "w0M2Kbz7f86a"
      }
    },
    {
      "cell_type": "markdown",
      "source": [
        "#Practical Question"
      ],
      "metadata": {
        "id": "DrG7aDDeyFdu"
      }
    },
    {
      "cell_type": "markdown",
      "source": [
        "1. Write a Python program to print \"Hello, World!\"?"
      ],
      "metadata": {
        "id": "suCU9esadSjh"
      }
    },
    {
      "cell_type": "code",
      "source": [
        "#Answer:\n",
        "print(\"Hello, World!\")"
      ],
      "metadata": {
        "id": "KjJCNEQdxrxP",
        "colab": {
          "base_uri": "https://localhost:8080/"
        },
        "outputId": "0d3c9e25-6155-45ea-eee2-36a74e1ebcd4"
      },
      "execution_count": null,
      "outputs": [
        {
          "output_type": "stream",
          "name": "stdout",
          "text": [
            "Hello, World!\n"
          ]
        }
      ]
    },
    {
      "cell_type": "markdown",
      "source": [
        "2. Write a Python program that displays your name and age?"
      ],
      "metadata": {
        "id": "2k7Cz7v_diKL"
      }
    },
    {
      "cell_type": "code",
      "source": [
        "#Answer:\n",
        "name = \"Suman Kar\"\n",
        "age = 24\n",
        "print(\"My name is\", name, \"and I'm\", age, \"years old.\")"
      ],
      "metadata": {
        "collapsed": true,
        "id": "9n6ivMo10RKf",
        "colab": {
          "base_uri": "https://localhost:8080/"
        },
        "outputId": "136cfeec-2b44-40c9-c790-2ae23113becc"
      },
      "execution_count": null,
      "outputs": [
        {
          "output_type": "stream",
          "name": "stdout",
          "text": [
            "My name is Suman Kar and I'm 24 years old.\n"
          ]
        }
      ]
    },
    {
      "cell_type": "markdown",
      "source": [
        " 3. Write code to print all the pre-defined keywords in Python using the keyword library?"
      ],
      "metadata": {
        "id": "wT8YHkZtd5Qo"
      }
    },
    {
      "cell_type": "code",
      "source": [
        "#Answer:\n",
        "import keyword\n",
        "key = keyword.kwlist\n",
        "print(\"Python Keywords:\")\n",
        "print(\"----------------\")\n",
        "for word in key:\n",
        "  print(word)"
      ],
      "metadata": {
        "id": "9B2QEQU90aPr",
        "colab": {
          "base_uri": "https://localhost:8080/"
        },
        "outputId": "ab3bfec1-9718-4e2d-f9a0-6457f20cf3fd"
      },
      "execution_count": null,
      "outputs": [
        {
          "output_type": "stream",
          "name": "stdout",
          "text": [
            "Python Keywords:\n",
            "----------------\n",
            "False\n",
            "None\n",
            "True\n",
            "and\n",
            "as\n",
            "assert\n",
            "async\n",
            "await\n",
            "break\n",
            "class\n",
            "continue\n",
            "def\n",
            "del\n",
            "elif\n",
            "else\n",
            "except\n",
            "finally\n",
            "for\n",
            "from\n",
            "global\n",
            "if\n",
            "import\n",
            "in\n",
            "is\n",
            "lambda\n",
            "nonlocal\n",
            "not\n",
            "or\n",
            "pass\n",
            "raise\n",
            "return\n",
            "try\n",
            "while\n",
            "with\n",
            "yield\n"
          ]
        }
      ]
    },
    {
      "cell_type": "markdown",
      "source": [
        "4. Write a program that checks if a given word is a Python keyword."
      ],
      "metadata": {
        "id": "OH5K8p2Ueg8m"
      }
    },
    {
      "cell_type": "code",
      "source": [
        "#Answer:\n",
        "import keyword\n",
        "word = input(\"Enter a word: \")\n",
        "if word in keyword.kwlist:\n",
        "    print(\"It's a Python keyword.\")\n",
        "else:\n",
        "    print(\"It's not a Python keyword.\")\n"
      ],
      "metadata": {
        "id": "PdjXgIre0aKw",
        "colab": {
          "base_uri": "https://localhost:8080/"
        },
        "outputId": "19e0160e-0296-4a14-f10a-f0be665249d5"
      },
      "execution_count": null,
      "outputs": [
        {
          "output_type": "stream",
          "name": "stdout",
          "text": [
            "Enter a word: False\n",
            "It's a Python keyword.\n"
          ]
        }
      ]
    },
    {
      "cell_type": "markdown",
      "source": [
        "5. Create a list and tuple in Python, and demonstrate how attempting to change an element works differently for each."
      ],
      "metadata": {
        "id": "hO9ICE3ae80X"
      }
    },
    {
      "cell_type": "code",
      "source": [
        "#Answer:\n",
        "# Changing an element in the list:\n",
        "list_con = [1, 2, 3,\"alia\", 5, 6]\n",
        "list_con[3] = 4\n",
        "print(\"New list:\",list_con)\n",
        "\n"
      ],
      "metadata": {
        "id": "sqniDc1W0aDz",
        "colab": {
          "base_uri": "https://localhost:8080/"
        },
        "outputId": "9faaa3d0-4bfb-4111-a722-79daaaccbe59"
      },
      "execution_count": 6,
      "outputs": [
        {
          "output_type": "stream",
          "name": "stdout",
          "text": [
            "New list: [1, 2, 3, 4, 5, 6]\n"
          ]
        }
      ]
    },
    {
      "cell_type": "code",
      "source": [
        "# Trying to change an element in the tuple\n",
        "my_tuple = (1, 2, 3,\"alia\", 5, 6)\n",
        "my_tuple[3] = 4\n",
        "my_tuple\n",
        "## It is showing us error because tuples are immutable it means after the creation of tuples its element can not be changed.\n",
        "\n"
      ],
      "metadata": {
        "id": "H8wr4PRb0Z_Q",
        "colab": {
          "base_uri": "https://localhost:8080/",
          "height": 211
        },
        "outputId": "483c81b7-b9b8-42da-d274-7a7fae9562bc"
      },
      "execution_count": null,
      "outputs": [
        {
          "output_type": "error",
          "ename": "TypeError",
          "evalue": "'tuple' object does not support item assignment",
          "traceback": [
            "\u001b[0;31m---------------------------------------------------------------------------\u001b[0m",
            "\u001b[0;31mTypeError\u001b[0m                                 Traceback (most recent call last)",
            "\u001b[0;32m<ipython-input-17-86e9fff55120>\u001b[0m in \u001b[0;36m<cell line: 0>\u001b[0;34m()\u001b[0m\n\u001b[1;32m      1\u001b[0m \u001b[0;31m# Trying to change an element in the tuple\u001b[0m\u001b[0;34m\u001b[0m\u001b[0;34m\u001b[0m\u001b[0m\n\u001b[1;32m      2\u001b[0m \u001b[0mmy_tuple\u001b[0m \u001b[0;34m=\u001b[0m \u001b[0;34m(\u001b[0m\u001b[0;36m1\u001b[0m\u001b[0;34m,\u001b[0m \u001b[0;36m2\u001b[0m\u001b[0;34m,\u001b[0m \u001b[0;36m3\u001b[0m\u001b[0;34m,\u001b[0m\u001b[0;34m\"alia\"\u001b[0m\u001b[0;34m,\u001b[0m \u001b[0;36m5\u001b[0m\u001b[0;34m,\u001b[0m \u001b[0;36m6\u001b[0m\u001b[0;34m)\u001b[0m\u001b[0;34m\u001b[0m\u001b[0;34m\u001b[0m\u001b[0m\n\u001b[0;32m----> 3\u001b[0;31m \u001b[0mmy_tuple\u001b[0m\u001b[0;34m[\u001b[0m\u001b[0;36m3\u001b[0m\u001b[0;34m]\u001b[0m \u001b[0;34m=\u001b[0m \u001b[0;36m4\u001b[0m\u001b[0;34m\u001b[0m\u001b[0;34m\u001b[0m\u001b[0m\n\u001b[0m\u001b[1;32m      4\u001b[0m \u001b[0mmy_tuple\u001b[0m\u001b[0;34m\u001b[0m\u001b[0;34m\u001b[0m\u001b[0m\n\u001b[1;32m      5\u001b[0m \u001b[0;31m## It is showing us error because tuples are immutable it means after the creation of tuples its element can not be changed.\u001b[0m\u001b[0;34m\u001b[0m\u001b[0;34m\u001b[0m\u001b[0m\n",
            "\u001b[0;31mTypeError\u001b[0m: 'tuple' object does not support item assignment"
          ]
        }
      ]
    },
    {
      "cell_type": "markdown",
      "source": [
        " 6. Write a function to demonstrate the behavior of mutable and immutable arguments."
      ],
      "metadata": {
        "id": "x4nNVf7Ufl_T"
      }
    },
    {
      "cell_type": "code",
      "source": [
        "# Changing an element in the list:\n",
        "def change_list():\n",
        "    list_con = [1, 2, 3, \"alia\", 5, 6]\n",
        "    list_con[3] = 4\n",
        "    print(\"New list:\", list_con)\n",
        "\n",
        "change_list()"
      ],
      "metadata": {
        "id": "833C_cF20Z6Y",
        "colab": {
          "base_uri": "https://localhost:8080/"
        },
        "outputId": "4b9596b2-5580-460c-c44c-e3cdb12e4906"
      },
      "execution_count": 13,
      "outputs": [
        {
          "output_type": "stream",
          "name": "stdout",
          "text": [
            "New list: [1, 2, 3, 4, 5, 6]\n"
          ]
        }
      ]
    },
    {
      "cell_type": "code",
      "source": [
        "# Trying to change an element in the tuple\n",
        "def change_tuple():\n",
        "  my_tuple = (1,2,3,f,5,6)\n",
        "  my_tuple[3] = 4\n",
        "  print(\"New tuples:\",my_tuple)\n",
        "change_tuple()"
      ],
      "metadata": {
        "colab": {
          "base_uri": "https://localhost:8080/",
          "height": 297
        },
        "id": "v8oq9-MsQ7bR",
        "outputId": "0ace47f7-eaa3-4488-8abd-f99383041b0e"
      },
      "execution_count": 12,
      "outputs": [
        {
          "output_type": "error",
          "ename": "NameError",
          "evalue": "name 'f' is not defined",
          "traceback": [
            "\u001b[0;31m---------------------------------------------------------------------------\u001b[0m",
            "\u001b[0;31mNameError\u001b[0m                                 Traceback (most recent call last)",
            "\u001b[0;32m<ipython-input-12-94054c96ff4e>\u001b[0m in \u001b[0;36m<cell line: 0>\u001b[0;34m()\u001b[0m\n\u001b[1;32m      4\u001b[0m   \u001b[0mmy_tuple\u001b[0m\u001b[0;34m[\u001b[0m\u001b[0;36m3\u001b[0m\u001b[0;34m]\u001b[0m \u001b[0;34m=\u001b[0m \u001b[0;36m4\u001b[0m\u001b[0;34m\u001b[0m\u001b[0;34m\u001b[0m\u001b[0m\n\u001b[1;32m      5\u001b[0m   \u001b[0mprint\u001b[0m\u001b[0;34m(\u001b[0m\u001b[0;34m\"New tuples:\"\u001b[0m\u001b[0;34m,\u001b[0m\u001b[0mmy_tuple\u001b[0m\u001b[0;34m)\u001b[0m\u001b[0;34m\u001b[0m\u001b[0;34m\u001b[0m\u001b[0m\n\u001b[0;32m----> 6\u001b[0;31m \u001b[0mchange_tuple\u001b[0m\u001b[0;34m(\u001b[0m\u001b[0;34m)\u001b[0m\u001b[0;34m\u001b[0m\u001b[0;34m\u001b[0m\u001b[0m\n\u001b[0m",
            "\u001b[0;32m<ipython-input-12-94054c96ff4e>\u001b[0m in \u001b[0;36mchange_tuple\u001b[0;34m()\u001b[0m\n\u001b[1;32m      1\u001b[0m \u001b[0;31m# Trying to change an element in the tuple\u001b[0m\u001b[0;34m\u001b[0m\u001b[0;34m\u001b[0m\u001b[0m\n\u001b[1;32m      2\u001b[0m \u001b[0;32mdef\u001b[0m \u001b[0mchange_tuple\u001b[0m\u001b[0;34m(\u001b[0m\u001b[0;34m)\u001b[0m\u001b[0;34m:\u001b[0m\u001b[0;34m\u001b[0m\u001b[0;34m\u001b[0m\u001b[0m\n\u001b[0;32m----> 3\u001b[0;31m   \u001b[0mmy_tuple\u001b[0m \u001b[0;34m=\u001b[0m \u001b[0;34m(\u001b[0m\u001b[0;36m1\u001b[0m\u001b[0;34m,\u001b[0m\u001b[0;36m2\u001b[0m\u001b[0;34m,\u001b[0m\u001b[0;36m3\u001b[0m\u001b[0;34m,\u001b[0m\u001b[0mf\u001b[0m\u001b[0;34m,\u001b[0m\u001b[0;36m5\u001b[0m\u001b[0;34m,\u001b[0m\u001b[0;36m6\u001b[0m\u001b[0;34m)\u001b[0m\u001b[0;34m\u001b[0m\u001b[0;34m\u001b[0m\u001b[0m\n\u001b[0m\u001b[1;32m      4\u001b[0m   \u001b[0mmy_tuple\u001b[0m\u001b[0;34m[\u001b[0m\u001b[0;36m3\u001b[0m\u001b[0;34m]\u001b[0m \u001b[0;34m=\u001b[0m \u001b[0;36m4\u001b[0m\u001b[0;34m\u001b[0m\u001b[0;34m\u001b[0m\u001b[0m\n\u001b[1;32m      5\u001b[0m   \u001b[0mprint\u001b[0m\u001b[0;34m(\u001b[0m\u001b[0;34m\"New tuples:\"\u001b[0m\u001b[0;34m,\u001b[0m\u001b[0mmy_tuple\u001b[0m\u001b[0;34m)\u001b[0m\u001b[0;34m\u001b[0m\u001b[0;34m\u001b[0m\u001b[0m\n",
            "\u001b[0;31mNameError\u001b[0m: name 'f' is not defined"
          ]
        }
      ]
    },
    {
      "cell_type": "markdown",
      "source": [
        " 7. Write a program that performs basic arithmetic operations on two user-input numbers.\n"
      ],
      "metadata": {
        "id": "xgMj1CMqoV54"
      }
    },
    {
      "cell_type": "code",
      "source": [
        "#Answer:\n",
        "a = int(input(\"enter a number: \"))\n",
        "b = int(input(\"enter a number: \"))\n",
        "print(\"Addition: \", a+b)\n",
        "print(\"Subtraction: \", a-b)\n",
        "print(\"Multiplication: \", a*b)\n",
        "print(\"Division: \", a/b)\n",
        "\n",
        "\n"
      ],
      "metadata": {
        "id": "7PPxzlHQ0Zxq",
        "colab": {
          "base_uri": "https://localhost:8080/"
        },
        "outputId": "fee05866-deef-425e-b58e-e8d42fd7ddfd"
      },
      "execution_count": null,
      "outputs": [
        {
          "output_type": "stream",
          "name": "stdout",
          "text": [
            "enter a number: 4\n",
            "enter a number: 7\n",
            "Addition:  11\n",
            "Subtraction:  -3\n",
            "Multiplication:  28\n",
            "Division:  0.5714285714285714\n"
          ]
        }
      ]
    },
    {
      "cell_type": "markdown",
      "source": [
        "8. Write a program to demonstrate the use of logical operators."
      ],
      "metadata": {
        "id": "vSmem-tYpO9s"
      }
    },
    {
      "cell_type": "code",
      "source": [
        "#Answer:\n",
        "x = int(input(\"Enter the first number (x): \"))\n",
        "y = int(input(\"Enter the second number (y): \"))\n",
        "if x > 0 and y > 0:\n",
        "    print(\"Both numbers are positive.\")\n",
        "elif x < 0 and y < 0:\n",
        "    print(\"Both numbers are negative.\")\n",
        "else :\n",
        "  print(\"Either one number is not positive.\")\n",
        "\n"
      ],
      "metadata": {
        "id": "RvIZABhf0Zl7",
        "colab": {
          "base_uri": "https://localhost:8080/"
        },
        "outputId": "fbe8d64f-b85c-45b9-bc0d-1b636aa609e4"
      },
      "execution_count": null,
      "outputs": [
        {
          "output_type": "stream",
          "name": "stdout",
          "text": [
            "Enter the first number (x): 5\n",
            "Enter the second number (y): 8\n",
            "Both numbers are positive.\n"
          ]
        }
      ]
    },
    {
      "cell_type": "markdown",
      "source": [
        "9. Write a Python program to convert user input from string to integer, float, and boolean types."
      ],
      "metadata": {
        "id": "w0WdfAX3pfZm"
      }
    },
    {
      "cell_type": "code",
      "source": [
        "#Answer:\n",
        "#String to Integer\n",
        "a = \"5\"\n",
        "b = int(a)\n",
        "print (type(a))\n",
        "print (type(b))"
      ],
      "metadata": {
        "colab": {
          "base_uri": "https://localhost:8080/"
        },
        "id": "Zwcly7ur6nYR",
        "outputId": "6e649a31-fc9b-4b09-a0a2-06e8cf0eeb57"
      },
      "execution_count": null,
      "outputs": [
        {
          "output_type": "stream",
          "name": "stdout",
          "text": [
            "<class 'str'>\n",
            "<class 'int'>\n"
          ]
        }
      ]
    },
    {
      "cell_type": "code",
      "source": [
        "#String to float\n",
        "a = \"5\"\n",
        "b = float(a)\n",
        "print (type(a))\n",
        "print (type(b))"
      ],
      "metadata": {
        "colab": {
          "base_uri": "https://localhost:8080/"
        },
        "id": "U9Q0qyvs6cHt",
        "outputId": "bacdf343-a2f3-46a5-a92d-f31ab95aa40f"
      },
      "execution_count": null,
      "outputs": [
        {
          "output_type": "stream",
          "name": "stdout",
          "text": [
            "<class 'str'>\n",
            "<class 'float'>\n"
          ]
        }
      ]
    },
    {
      "cell_type": "code",
      "source": [
        "# String to boolean\n",
        "a = \"5\"\n",
        "b = bool(a)\n",
        "print (type(a))\n",
        "print (type(b))"
      ],
      "metadata": {
        "colab": {
          "base_uri": "https://localhost:8080/"
        },
        "id": "BdW-vcr96b7W",
        "outputId": "ffbf74e6-1ddf-4d3d-c1d2-aa54d91ecad7"
      },
      "execution_count": null,
      "outputs": [
        {
          "output_type": "stream",
          "name": "stdout",
          "text": [
            "<class 'str'>\n",
            "<class 'bool'>\n"
          ]
        }
      ]
    },
    {
      "cell_type": "markdown",
      "source": [
        "10. Write code to demonstrate type casting with list elements."
      ],
      "metadata": {
        "id": "36gZ7cQXpwfe"
      }
    },
    {
      "cell_type": "code",
      "source": [
        "#Answer:\n",
        "string_list = ['1', '2', '3']\n",
        "# Convert to integers\n",
        "int_list = [int(i) for i in string_list]\n",
        "print(\"Integer list:\", int_list)\n",
        "\n",
        "# Convert to floats\n",
        "float_list = [float(i) for i in string_list]\n",
        "print(\"Float list:\", float_list)\n",
        "\n",
        "# Convert to booleans\n",
        "bool_list = [bool(i) for i in string_list]\n",
        "print(\"Boolean list:\", bool_list)"
      ],
      "metadata": {
        "id": "u5K5inVV0ZUs",
        "colab": {
          "base_uri": "https://localhost:8080/"
        },
        "outputId": "337372b6-0131-4adc-c55e-d422fb3af49d"
      },
      "execution_count": null,
      "outputs": [
        {
          "output_type": "stream",
          "name": "stdout",
          "text": [
            "Integer list: [1, 2, 3]\n",
            "Float list: [1.0, 2.0, 3.0]\n",
            "Boolean list: [True, True, True]\n"
          ]
        }
      ]
    },
    {
      "cell_type": "markdown",
      "source": [
        "11. Write a program that checks if a number is positive, negative, or zero."
      ],
      "metadata": {
        "id": "8Y9NVAdIqLFc"
      }
    },
    {
      "cell_type": "code",
      "source": [
        "#Answer:\n",
        "sk = int(input(\"Enter a number : \"))\n",
        "if sk > 0:\n",
        "    print(\"The number is possitive.\")\n",
        "elif sk < 0:\n",
        "    print(\"The number is negative.\")\n",
        "else:\n",
        "    print(\"The number is zero.\")"
      ],
      "metadata": {
        "colab": {
          "base_uri": "https://localhost:8080/"
        },
        "id": "i8OLhipe-SJA",
        "outputId": "3c7a091d-57e5-45e7-9dca-590aeab445fc"
      },
      "execution_count": null,
      "outputs": [
        {
          "output_type": "stream",
          "name": "stdout",
          "text": [
            "Enter a number : 56\n",
            "The number is possitive.\n"
          ]
        }
      ]
    },
    {
      "cell_type": "markdown",
      "source": [
        "12. Write a for loop to print numbers from 1 to 10."
      ],
      "metadata": {
        "id": "D6J0mxoIqfVk"
      }
    },
    {
      "cell_type": "code",
      "source": [
        "#Answer:\n",
        "for i in range (1,11):\n",
        "    print(i, end=\" \")\n"
      ],
      "metadata": {
        "colab": {
          "base_uri": "https://localhost:8080/"
        },
        "id": "14-UnaDe98ci",
        "outputId": "86e47f66-9260-4acd-f8ba-ebf791c3a7e2"
      },
      "execution_count": null,
      "outputs": [
        {
          "output_type": "stream",
          "name": "stdout",
          "text": [
            "1 2 3 4 5 6 7 8 9 10 "
          ]
        }
      ]
    },
    {
      "cell_type": "markdown",
      "source": [
        "13. Write a Python program to find the sum of all even numbers between 1 and 50."
      ],
      "metadata": {
        "id": "KlizntQdrE6l"
      }
    },
    {
      "cell_type": "code",
      "source": [
        "#Answer:\n",
        "sum = 0\n",
        "for i in range (1,51):\n",
        "  if i % 2 == 0:\n",
        "    sum = sum + i\n",
        "print(\"The sum of all even numbers between 1 and 50 is\", sum)"
      ],
      "metadata": {
        "colab": {
          "base_uri": "https://localhost:8080/"
        },
        "id": "shg3UwboA-q0",
        "outputId": "070438c1-db1b-42a4-fabc-902ee51da0d0"
      },
      "execution_count": 4,
      "outputs": [
        {
          "output_type": "stream",
          "name": "stdout",
          "text": [
            "The sum of all even numbers between 1 and 50 is 650\n"
          ]
        }
      ]
    },
    {
      "cell_type": "markdown",
      "source": [
        "14. Write a program to reverse a string using a while loop."
      ],
      "metadata": {
        "id": "J8gdRtY5GnQi"
      }
    },
    {
      "cell_type": "code",
      "source": [
        "#Answer:\n",
        "a = input(\"Enter a string: \")\n",
        "b = \"\"\n",
        "i = len(a)-1\n",
        "while i >= 0:\n",
        "    b = b+a[i]\n",
        "    i= i-1\n",
        "print(\"Reverse string is : \", b)\n",
        "\n"
      ],
      "metadata": {
        "colab": {
          "base_uri": "https://localhost:8080/"
        },
        "id": "895EGsFXA-oF",
        "outputId": "7aa04520-0cd6-4cb3-f091-8fe248e6109f"
      },
      "execution_count": 5,
      "outputs": [
        {
          "output_type": "stream",
          "name": "stdout",
          "text": [
            "Enter a string: MONEY\n",
            "Reverse string is :  YENOM\n"
          ]
        }
      ]
    },
    {
      "cell_type": "markdown",
      "source": [
        " 15. Write a Python program to calculate the factorial of a number provided by the user using a while loop."
      ],
      "metadata": {
        "id": "zcgdTVoWHO2a"
      }
    },
    {
      "cell_type": "code",
      "source": [
        "#Answer:\n",
        "a = int(input(\"Enter a number: \"))\n",
        "b=1\n",
        "c=1\n",
        "while b <= a:\n",
        "    c = c*b\n",
        "    b = b+1\n",
        "print(\"Factorial of \",a, \"is\", c)\n",
        "\n"
      ],
      "metadata": {
        "colab": {
          "base_uri": "https://localhost:8080/"
        },
        "id": "ZnUBPgxvA-lL",
        "outputId": "0ba55887-f704-4758-a86f-3a20acf8d29d"
      },
      "execution_count": null,
      "outputs": [
        {
          "output_type": "stream",
          "name": "stdout",
          "text": [
            "Enter a number: 3\n",
            "Factorial of  3 is 6\n"
          ]
        }
      ]
    }
  ]
}